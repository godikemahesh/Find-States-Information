{
 "cells": [
  {
   "cell_type": "code",
   "execution_count": 2,
   "id": "11257569",
   "metadata": {},
   "outputs": [
    {
     "data": {
      "application/vnd.jupyter.widget-view+json": {
       "model_id": "b491687071be49ea9665ca0fb848079d",
       "version_major": 2,
       "version_minor": 0
      },
      "text/plain": [
       "Map(center=[0, 0], controls=(ZoomControl(options=['position', 'zoom_in_text', 'zoom_in_title', 'zoom_out_text'…"
      ]
     },
     "metadata": {},
     "output_type": "display_data"
    },
    {
     "data": {
      "application/vnd.jupyter.widget-view+json": {
       "model_id": "d2296c4907854d6ab9f9dab9eadb991f",
       "version_major": 2,
       "version_minor": 0
      },
      "text/plain": [
       "Output()"
      ]
     },
     "metadata": {},
     "output_type": "display_data"
    },
    {
     "name": "stdout",
     "output_type": "stream",
     "text": [
      "Error executing cell: Non-successful status code 403\n"
     ]
    }
   ],
   "source": [
    "from ipyleaflet import Map, Marker\n",
    "import ipywidgets as widgets\n",
    "from IPython.display import display\n",
    "from geopy.geocoders import Nominatim\n",
    "\n",
    "\n",
    "\n",
    "m = Map(center=[0, 0], zoom=2)\n",
    "\n",
    "\n",
    "marker = Marker(location=[18, 100], draggable=True)\n",
    "m.add_layer(marker)\n",
    "\n",
    "output = widgets.Output()\n",
    "geolocator = Nominatim(user_agent=\"geoapiExercises\")\n",
    "\n",
    "def on_drag(event):\n",
    "    new_Location=event[\"new\"]\n",
    "    try:\n",
    "        location=geolocator.reverse(new_Location,exactly_one=True)\n",
    "        address = location.raw.get('address', {})\n",
    "        # Get the village name or fallback to nearest place\n",
    "        state = address.get('state', 'Unknown')\n",
    "        country=address.get(\"country\",\"Unknown\")\n",
    "        with output:\n",
    "            output.clear_output()\n",
    "            print(f\"Marker dragged to new location: {new_Location},State:{country},{state}\")\n",
    "            print(\"please wait while loading...\")\n",
    "            print(\"\\n\")\n",
    "            with open(\"stateName.txt\",\"w\",encoding=\"utf-8\") as file:\n",
    "                file.write(f\"{country},{state}\")\n",
    "            from getdata import get_data\n",
    "            matter=get_data(f\"{country},{state}\")\n",
    "            output.clear_output()\n",
    "            print(f\"Marker dragged to new location: {new_Location},State:{country},{state}\")\n",
    "            print(\"\\n\")\n",
    "            print(matter)    \n",
    "    except Exception as e:\n",
    "            print(f\"Error executing cell: {e}\")\n",
    "        \n",
    "\n",
    "\n",
    "\n",
    "marker.observe(on_drag, 'location')\n",
    "\n",
    "\n",
    "display(m, output)\n"
   ]
  },
  {
   "cell_type": "code",
   "execution_count": null,
   "id": "30da3e9d",
   "metadata": {},
   "outputs": [],
   "source": []
  },
  {
   "cell_type": "code",
   "execution_count": null,
   "id": "44db50cb",
   "metadata": {},
   "outputs": [],
   "source": []
  },
  {
   "cell_type": "code",
   "execution_count": null,
   "id": "bd6f84a3",
   "metadata": {},
   "outputs": [],
   "source": []
  },
  {
   "cell_type": "code",
   "execution_count": null,
   "id": "f1dd5a33",
   "metadata": {},
   "outputs": [],
   "source": []
  },
  {
   "cell_type": "code",
   "execution_count": null,
   "id": "c19f3c44",
   "metadata": {},
   "outputs": [],
   "source": []
  },
  {
   "cell_type": "code",
   "execution_count": null,
   "id": "50107505",
   "metadata": {},
   "outputs": [],
   "source": []
  }
 ],
 "metadata": {
  "kernelspec": {
   "display_name": "Python 3 (ipykernel)",
   "language": "python",
   "name": "python3"
  },
  "language_info": {
   "codemirror_mode": {
    "name": "ipython",
    "version": 3
   },
   "file_extension": ".py",
   "mimetype": "text/x-python",
   "name": "python",
   "nbconvert_exporter": "python",
   "pygments_lexer": "ipython3",
   "version": "3.11.5"
  }
 },
 "nbformat": 4,
 "nbformat_minor": 5
}
